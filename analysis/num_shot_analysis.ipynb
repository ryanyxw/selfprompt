{
 "cells": [
  {
   "cell_type": "code",
   "execution_count": 4,
   "metadata": {
    "collapsed": true,
    "ExecuteTime": {
     "end_time": "2023-11-27T00:40:36.645409Z",
     "start_time": "2023-11-27T00:40:36.645159Z"
    }
   },
   "outputs": [],
   "source": [
    "LLAMA_ET=\"./../LLaMA-Efficient-Tuning\"\n",
    "DEMONSTRATIONS_DIR=\"./../demonstrations\"\n",
    "RESULTS_DIR=\"./../results_out_dir\"\n",
    "SRC_DIR=\"./../src\"\n",
    "SBATCH_OUT=\"./../sbatch_out\"\n",
    "PROCESSED_DIR=\"./../process_out_dir\"\n"
   ]
  },
  {
   "cell_type": "code",
   "execution_count": 3,
   "outputs": [
    {
     "data": {
      "text/plain": "'/home/ryan/selfprompt/analysis'"
     },
     "execution_count": 3,
     "metadata": {},
     "output_type": "execute_result"
    }
   ],
   "source": [
    "import os\n",
    "import pandas as pd\n",
    "os.getcwd()"
   ],
   "metadata": {
    "collapsed": false,
    "ExecuteTime": {
     "end_time": "2023-11-27T00:40:35.271344Z",
     "start_time": "2023-11-27T00:40:35.025178Z"
    }
   }
  },
  {
   "cell_type": "code",
   "execution_count": 59,
   "outputs": [
    {
     "data": {
      "text/plain": "['label_first_2shotv1', 'label_first_2shotv2', 'label_first_2shotv3']"
     },
     "execution_count": 59,
     "metadata": {},
     "output_type": "execute_result"
    }
   ],
   "source": [
    "shots = [2]\n",
    "exp_name = \"label_first\"\n",
    "files = [f\"{exp_name}_{shot}shotv{j}\" for shot in shots for j in range(1, 4)]\n",
    "files"
   ],
   "metadata": {
    "collapsed": false,
    "ExecuteTime": {
     "end_time": "2023-11-27T00:45:35.386981Z",
     "start_time": "2023-11-27T00:45:35.380667Z"
    }
   }
  },
  {
   "cell_type": "code",
   "execution_count": 60,
   "outputs": [],
   "source": [
    "df_arr = []\n",
    "for file in files:\n",
    "    df = pd.read_csv(f\"{PROCESSED_DIR}/{file}.csv\", header=None)\n",
    "    df_arr.append(df)\n"
   ],
   "metadata": {
    "collapsed": false,
    "ExecuteTime": {
     "end_time": "2023-11-27T00:45:35.568365Z",
     "start_time": "2023-11-27T00:45:35.527467Z"
    }
   }
  },
  {
   "cell_type": "code",
   "execution_count": 61,
   "outputs": [],
   "source": [
    "def get_accuracy(df):\n",
    "    return (df[0] == df[1]).mean()\n"
   ],
   "metadata": {
    "collapsed": false,
    "ExecuteTime": {
     "end_time": "2023-11-27T00:45:35.727799Z",
     "start_time": "2023-11-27T00:45:35.681537Z"
    }
   }
  },
  {
   "cell_type": "code",
   "execution_count": 62,
   "outputs": [
    {
     "data": {
      "text/plain": "[0.394, 0.282, 0.324]"
     },
     "execution_count": 62,
     "metadata": {},
     "output_type": "execute_result"
    }
   ],
   "source": [
    "[get_accuracy(df_arr[i]) for i in range(len(df_arr))]"
   ],
   "metadata": {
    "collapsed": false,
    "ExecuteTime": {
     "end_time": "2023-11-27T00:45:35.883566Z",
     "start_time": "2023-11-27T00:45:35.842682Z"
    }
   }
  },
  {
   "cell_type": "code",
   "execution_count": 63,
   "outputs": [],
   "source": [
    "def get_unanswered(df):\n",
    "    return (df[0] == \"none\").sum()"
   ],
   "metadata": {
    "collapsed": false,
    "ExecuteTime": {
     "end_time": "2023-11-27T00:45:36.049284Z",
     "start_time": "2023-11-27T00:45:36.005908Z"
    }
   }
  },
  {
   "cell_type": "code",
   "execution_count": 64,
   "outputs": [
    {
     "data": {
      "text/plain": "[119, 217, 160]"
     },
     "execution_count": 64,
     "metadata": {},
     "output_type": "execute_result"
    }
   ],
   "source": [
    "[get_unanswered(df_arr[i]) for i in range(len(df_arr))]"
   ],
   "metadata": {
    "collapsed": false,
    "ExecuteTime": {
     "end_time": "2023-11-27T00:45:37.167441Z",
     "start_time": "2023-11-27T00:45:37.163493Z"
    }
   }
  },
  {
   "cell_type": "code",
   "execution_count": null,
   "outputs": [],
   "source": [],
   "metadata": {
    "collapsed": false
   }
  }
 ],
 "metadata": {
  "kernelspec": {
   "display_name": "Python 3",
   "language": "python",
   "name": "python3"
  },
  "language_info": {
   "codemirror_mode": {
    "name": "ipython",
    "version": 2
   },
   "file_extension": ".py",
   "mimetype": "text/x-python",
   "name": "python",
   "nbconvert_exporter": "python",
   "pygments_lexer": "ipython2",
   "version": "2.7.6"
  }
 },
 "nbformat": 4,
 "nbformat_minor": 0
}
